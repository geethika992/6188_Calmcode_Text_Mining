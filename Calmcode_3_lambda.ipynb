{
  "nbformat": 4,
  "nbformat_minor": 0,
  "metadata": {
    "colab": {
      "provenance": []
    },
    "kernelspec": {
      "name": "python3",
      "display_name": "Python 3"
    },
    "language_info": {
      "name": "python"
    }
  },
  "cells": [
    {
      "cell_type": "markdown",
      "source": [
        "#Calculate Moving average for a list of numbers user enters. The window size=2\n"
      ],
      "metadata": {
        "id": "qwNOU6VJ41GL"
      }
    },
    {
      "cell_type": "markdown",
      "source": [
        "1. Import necessary packages. Give uset prompt to input a list of numbers"
      ],
      "metadata": {
        "id": "iodyNhXYqiWo"
      }
    },
    {
      "cell_type": "code",
      "source": [
        "from functools import reduce\n",
        "\n",
        "\n",
        "# Prompt the user to input data\n",
        "data = input(\"Enter a list of numbers separated by spaces: \").split()\n",
        "data = list(map(float, data))  # Convert input to a list of floats\n",
        "\n"
      ],
      "metadata": {
        "colab": {
          "base_uri": "https://localhost:8080/"
        },
        "id": "6ssLGJHY4EPX",
        "outputId": "cad7ca34-a0f9-4100-e6b0-712c53ef52ea"
      },
      "execution_count": null,
      "outputs": [
        {
          "name": "stdout",
          "output_type": "stream",
          "text": [
            "Enter a list of numbers separated by spaces: 2 3 4 6 7 8 9\n"
          ]
        }
      ]
    },
    {
      "cell_type": "markdown",
      "source": [
        "2. The lambda function moving_average takes two numbers x and y as input and returns their average."
      ],
      "metadata": {
        "id": "TWRFuJSZqsgY"
      }
    },
    {
      "cell_type": "code",
      "source": [
        "# Define the moving average lambda function\n",
        "moving_average = lambda x, y: (x + y) / 2\n",
        "\n"
      ],
      "metadata": {
        "id": "fz446S5y4KuW"
      },
      "execution_count": null,
      "outputs": []
    },
    {
      "cell_type": "markdown",
      "source": [
        "3. Apply the reduce() function from the functools module to the window of two numbers using the moving_average lambda function. The reduce() function repeatedly applies the moving_average function to the elements of the window, reducing it to a single value by performing pairwise operations (in this case, calculating the moving average of two numbers).\n",
        "\n"
      ],
      "metadata": {
        "id": "txncDPufq6Cy"
      }
    },
    {
      "cell_type": "code",
      "source": [
        "# Calculate the moving averages using reduce\n",
        "averages = [reduce(moving_average, data[i:i+2]) for i in range(len(data) - 1)]\n",
        "\n"
      ],
      "metadata": {
        "id": "imtx_Ruy4Lw_"
      },
      "execution_count": null,
      "outputs": []
    },
    {
      "cell_type": "code",
      "source": [
        "print(\"Moving averages with window size 2:\", averages)"
      ],
      "metadata": {
        "colab": {
          "base_uri": "https://localhost:8080/"
        },
        "id": "ndBJPqAq4NLp",
        "outputId": "c667e430-6676-42a1-b460-d695fa5fe304"
      },
      "execution_count": null,
      "outputs": [
        {
          "output_type": "stream",
          "name": "stdout",
          "text": [
            "Moving averages with window size 2: [2.5, 3.5, 5.0, 6.5, 7.5, 8.5]\n"
          ]
        }
      ]
    },
    {
      "cell_type": "markdown",
      "source": [
        "#Lambda on Pandas Dataframe\n"
      ],
      "metadata": {
        "id": "BcCdxepAD6Kf"
      }
    },
    {
      "cell_type": "code",
      "source": [
        "import pandas as pd\n",
        "\n",
        "# Sample DataFrame with transaction data\n",
        "data = {'TransactionID': [1, 2, 3, 4, 5],\n",
        "        'Amount': [100, 50, 200, 150, 75]}\n",
        "df = pd.DataFrame(data)\n"
      ],
      "metadata": {
        "id": "hSF2M_gGD9c2"
      },
      "execution_count": null,
      "outputs": []
    },
    {
      "cell_type": "markdown",
      "source": [
        "Created a sample dataframe with some amount."
      ],
      "metadata": {
        "id": "YdYKXIm7EOQF"
      }
    },
    {
      "cell_type": "markdown",
      "source": [
        "We are going to categorize the amount into **high,medium low**.\n",
        "\n",
        "High if amount>150,\n",
        "\n",
        "medium if amount between 100(excluding) and 150(inclusive) and\n",
        "\n",
        "low when amount <=100"
      ],
      "metadata": {
        "id": "RqbR5CtqET6N"
      }
    },
    {
      "cell_type": "code",
      "source": [
        "# Apply the lambda function to create a new column 'Category'\n",
        "df['Category'] = df['Amount'].apply(lambda amount: 'High' if amount > 150 else 'Medium' if amount > 100 else 'Low')\n",
        "\n"
      ],
      "metadata": {
        "id": "wH9qnAF1EA29"
      },
      "execution_count": null,
      "outputs": []
    },
    {
      "cell_type": "code",
      "source": [
        "print(df)"
      ],
      "metadata": {
        "colab": {
          "base_uri": "https://localhost:8080/"
        },
        "id": "kucEToJYEB3k",
        "outputId": "8b8d1679-771d-4e16-fd3c-1ada6d66195a"
      },
      "execution_count": null,
      "outputs": [
        {
          "output_type": "stream",
          "name": "stdout",
          "text": [
            "   TransactionID  Amount Category\n",
            "0              1     100      Low\n",
            "1              2      50      Low\n",
            "2              3     200     High\n",
            "3              4     150   Medium\n",
            "4              5      75      Low\n"
          ]
        }
      ]
    }
  ]
}